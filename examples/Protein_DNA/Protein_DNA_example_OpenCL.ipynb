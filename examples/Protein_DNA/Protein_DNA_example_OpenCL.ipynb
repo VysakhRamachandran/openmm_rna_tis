{
 "cells": [
  {
   "cell_type": "markdown",
   "metadata": {
    "toc": true
   },
   "source": [
    "<h1>Table of Contents<span class=\"tocSkip\"></span></h1>\n",
    "<div class=\"toc\"><ul class=\"toc-item\"></ul></div>"
   ]
  },
  {
   "cell_type": "code",
   "execution_count": 1,
   "metadata": {},
   "outputs": [],
   "source": [
    "# If you want to specify the package address\n",
    "# you can add them to the PYTHONPATH environment variable.\n",
    "# Also you can add them on the run time uncommenting the lines below\n",
    "# import sys\n",
    "# open3SPN2_HOME = '/Users/weilu/open3spn2/'\n",
    "# openAWSEM_HOME = '/Users/weilu/openmmawsem/'\n",
    "# sys.path.insert(0,open3SPN2_HOME)\n",
    "# sys.path.insert(0,openAWSEM_HOME)"
   ]
  },
  {
   "cell_type": "code",
   "execution_count": 2,
   "metadata": {},
   "outputs": [],
   "source": [
    "#Import openAWSEM, open3SPN2 and other libraries\n",
    "import open3SPN2\n",
    "import ffAWSEM\n",
    "\n",
    "import pandas\n",
    "import numpy as np\n",
    "import simtk.openmm\n",
    "\n",
    "from functools import partial\n",
    "import sys"
   ]
  },
  {
   "cell_type": "code",
   "execution_count": 3,
   "metadata": {},
   "outputs": [],
   "source": [
    "#Fix the system (adds missing atoms)\n",
    "fix=open3SPN2.fixPDB(\"1lmb.pdb\")"
   ]
  },
  {
   "cell_type": "code",
   "execution_count": 4,
   "metadata": {},
   "outputs": [
    {
     "name": "stdout",
     "output_type": "stream",
     "text": [
      "chain A is a DNA chain. it will be removed\n",
      "chain B is a DNA chain. it will be removed\n",
      "C 87\n",
      "D 92\n"
     ]
    },
    {
     "name": "stderr",
     "output_type": "stream",
     "text": [
      "/home/cab22/Programs/anaconda3/envs/py36/lib/python3.6/site-packages/Bio/PDB/PDBParser.py:399: PDBConstructionWarning: Ignoring unrecognized record 'END' at line 4071\n",
      "  PDBConstructionWarning,\n"
     ]
    }
   ],
   "source": [
    "#Create a table containing both the proteins and the DNA\n",
    "complex_table=open3SPN2.pdb2table(fix)\n",
    "\n",
    "# Create a single memory file\n",
    "ffAWSEM.create_single_memory(fix)"
   ]
  },
  {
   "cell_type": "code",
   "execution_count": 5,
   "metadata": {},
   "outputs": [],
   "source": [
    "#Generate a coarse-grained model of the DNA molecules\n",
    "dna_atoms=open3SPN2.DNA.CoarseGrain(complex_table)\n",
    "\n",
    "#Generate a coarse-grained model of the Protein molecules\n",
    "protein_atoms=ffAWSEM.Protein.CoarseGrain(complex_table)"
   ]
  },
  {
   "cell_type": "code",
   "execution_count": 6,
   "metadata": {},
   "outputs": [],
   "source": [
    "#Merge the models\n",
    "Coarse=pandas.concat([protein_atoms,dna_atoms],sort=False)\n",
    "Coarse.index=range(len(Coarse))\n",
    "Coarse['serial']=list(Coarse.index)"
   ]
  },
  {
   "cell_type": "code",
   "execution_count": 7,
   "metadata": {},
   "outputs": [],
   "source": [
    "#Save the protein_sequence\n",
    "ffAWSEM.save_protein_sequence(Coarse,sequence_file='protein.seq')"
   ]
  },
  {
   "cell_type": "code",
   "execution_count": 8,
   "metadata": {},
   "outputs": [],
   "source": [
    "# Create a merged PDB\n",
    "ffAWSEM.writePDB(Coarse,'clean.pdb')"
   ]
  },
  {
   "cell_type": "code",
   "execution_count": 9,
   "metadata": {},
   "outputs": [],
   "source": [
    "#Create the merged system\n",
    "\n",
    "pdb=simtk.openmm.app.PDBFile('clean.pdb')\n",
    "top=pdb.topology\n",
    "coord=pdb.positions\n",
    "forcefield=simtk.openmm.app.ForceField(ffAWSEM.xml,open3SPN2.xml)\n",
    "s=forcefield.createSystem(top)"
   ]
  },
  {
   "cell_type": "code",
   "execution_count": 10,
   "metadata": {},
   "outputs": [],
   "source": [
    "#Create the DNA and Protein Objects\n",
    "dna=open3SPN2.DNA.fromCoarsePDB('clean.pdb')\n",
    "with open('protein.seq') as ps:\n",
    "    protein_sequence_one=ps.readlines()[0]\n",
    "protein=ffAWSEM.Protein.fromCoarsePDB('clean.pdb',sequence=protein_sequence_one)\n",
    "dna.periodic=False\n",
    "protein.periodic=False"
   ]
  },
  {
   "cell_type": "code",
   "execution_count": 11,
   "metadata": {},
   "outputs": [],
   "source": [
    "#Copy the AWSEM parameter files\n",
    "ffAWSEM.copy_parameter_files()"
   ]
  },
  {
   "cell_type": "code",
   "execution_count": 12,
   "metadata": {},
   "outputs": [],
   "source": [
    "#Clear Forces from the system\n",
    "keepCMMotionRemover=True\n",
    "j=0\n",
    "for i, f in enumerate(s.getForces()):\n",
    "    if keepCMMotionRemover and i == 0 and f.__class__ == simtk.openmm.CMMotionRemover:\n",
    "        # print('Kept ', f.__class__)\n",
    "        j += 1\n",
    "        continue\n",
    "    else:\n",
    "        # print('Removed ', f.__class__)\n",
    "        s.removeForce(j)\n",
    "if keepCMMotionRemover == False:\n",
    "    assert len(s.getForces()) == 0, 'Not all the forces were removed'\n",
    "else:\n",
    "    assert len(s.getForces()) <= 1, 'Not all the forces were removed'\n"
   ]
  },
  {
   "cell_type": "code",
   "execution_count": 13,
   "metadata": {},
   "outputs": [
    {
     "name": "stdout",
     "output_type": "stream",
     "text": [
      "Bond\n",
      "Angle\n",
      "Stacking\n",
      "Dihedral\n",
      "BasePair\n",
      "CrossStacking\n",
      "Exclusion\n",
      "Electrostatics\n",
      "ExclusionProteinDNA\n",
      "ElectrostaticsProteinDNA\n",
      "Connectivity\n",
      "Chain\n",
      "Chi\n",
      "Excl\n",
      "1205\n",
      "1844\n",
      "rama\n",
      "rama_pro\n",
      "contact\n",
      "Number of atom:  1171 Number of residue:  179\n",
      "Contact cutoff  1.0 nm\n",
      "NonbondedMethod:  1\n",
      "0\n",
      "639\n",
      "frag\n",
      "Loading Fragment files(Gro files)\n",
      "Saving fragment table as npy file to speed up future calculation.\n",
      "All gro files information have been stored in the ./single_frags.npy.             \n",
      "You might want to set the 'UseSavedFragTable'=True to speed up the loading next time.             \n",
      "But be sure to remove the .npy file if you modify the .mem file. otherwise it will keep using the old frag memeory.\n",
      "beta1\n",
      "beta_1 term ON\n",
      "beta2\n",
      "beta_2 term ON\n"
     ]
    },
    {
     "name": "stderr",
     "output_type": "stream",
     "text": [
      "/home/cab22/Programs/anaconda3/envs/py36/lib/python3.6/site-packages/numpy/core/_asarray.py:136: VisibleDeprecationWarning: Creating an ndarray from ragged nested sequences (which is a list-or-tuple of lists-or-tuples-or ndarrays with different lengths or shapes) is deprecated. If you meant to do this, you must specify 'dtype=object' when creating the ndarray\n",
      "  return array(a, dtype, copy=False, order=order, subok=True)\n"
     ]
    },
    {
     "name": "stdout",
     "output_type": "stream",
     "text": [
      "beta3\n",
      "beta_3 term ON\n",
      "pap1\n",
      "pap_1 term ON\n",
      "No ssweight given, assume all zero\n",
      "pap2\n",
      "pap_2 term ON\n",
      "No ssweight given, assume all zero\n"
     ]
    }
   ],
   "source": [
    "#Initialize the force dictionary    \n",
    "forces={}\n",
    "for i in range(s.getNumForces()):\n",
    "    force = s.getForce(i)\n",
    "    force_name=\"CMMotionRemover\"\n",
    "\n",
    "#Add 3SPN2 forces\n",
    "for force_name in open3SPN2.forces:\n",
    "    print(force_name)\n",
    "    force = open3SPN2.forces[force_name](dna)\n",
    "    if force_name in ['BasePair','CrossStacking']:\n",
    "        force.addForce(s)\n",
    "    else:\n",
    "        s.addForce(force)\n",
    "    forces.update({force_name:force})\n",
    "\n",
    "#Add AWSEM forces\n",
    "openAWSEMforces = dict(Connectivity=ffAWSEM.functionTerms.basicTerms.con_term,\n",
    "                       Chain=ffAWSEM.functionTerms.basicTerms.chain_term,\n",
    "                       Chi=ffAWSEM.functionTerms.basicTerms.chi_term,\n",
    "                       Excl=ffAWSEM.functionTerms.basicTerms.excl_term,\n",
    "                       rama=ffAWSEM.functionTerms.basicTerms.rama_term,\n",
    "                       rama_pro=ffAWSEM.functionTerms.basicTerms.rama_proline_term,\n",
    "                       contact=ffAWSEM.functionTerms.contactTerms.contact_term,\n",
    "                       frag  = partial(ffAWSEM.functionTerms.templateTerms.fragment_memory_term, \n",
    "                                       frag_file_list_file=\"./single_frags.mem\", \n",
    "                                       npy_frag_table=\"./single_frags.npy\", \n",
    "                                       UseSavedFragTable=False, \n",
    "                                       k_fm=0.04184/3),\n",
    "                       beta1 = ffAWSEM.functionTerms.hydrogenBondTerms.beta_term_1,\n",
    "                       beta2 = ffAWSEM.functionTerms.hydrogenBondTerms.beta_term_2,\n",
    "                       beta3 = ffAWSEM.functionTerms.hydrogenBondTerms.beta_term_3,\n",
    "                       pap1 = ffAWSEM.functionTerms.hydrogenBondTerms.pap_term_1,\n",
    "                       pap2 = ffAWSEM.functionTerms.hydrogenBondTerms.pap_term_2,\n",
    "                      )\n",
    "protein.setup_virtual_sites(s)\n",
    "\n",
    "#Add DNA-protein interaction forces\n",
    "for force_name in open3SPN2.protein_dna_forces:\n",
    "    print(force_name)\n",
    "    force = open3SPN2.protein_dna_forces[force_name](dna,protein)\n",
    "    s.addForce(force)\n",
    "    forces.update({force_name: force})\n",
    "\n",
    "#Fix exclussions\n",
    "for force_name in openAWSEMforces:\n",
    "    print(force_name)\n",
    "    if force_name in ['contact']:\n",
    "        force = openAWSEMforces[force_name](protein, withExclusion=False,periodic=False)\n",
    "        print(force.getNumExclusions())\n",
    "        open3SPN2.addNonBondedExclusions(dna,force)\n",
    "        print(force.getNumExclusions())\n",
    "    elif force_name in ['Excl']:\n",
    "        force = openAWSEMforces[force_name](protein)\n",
    "        print(force.getNumExclusions())\n",
    "        open3SPN2.addNonBondedExclusions(dna,force)\n",
    "        print(force.getNumExclusions())\n",
    "    else:\n",
    "        force = openAWSEMforces[force_name](protein)\n",
    "    s.addForce(force)\n",
    "    forces.update({force_name: force})"
   ]
  },
  {
   "cell_type": "code",
   "execution_count": 14,
   "metadata": {},
   "outputs": [
    {
     "name": "stdout",
     "output_type": "stream",
     "text": [
      "-899.1475830078125\n"
     ]
    }
   ],
   "source": [
    "# Set up the simulation\n",
    "temperature=300 * simtk.openmm.unit.kelvin\n",
    "platform_name='OpenCL' #'Reference','CPU','CUDA', 'OpenCL'\n",
    "\n",
    "integrator = simtk.openmm.LangevinIntegrator(temperature, 1 / simtk.openmm.unit.picosecond, 2 * simtk.openmm.unit.femtoseconds)\n",
    "platform = simtk.openmm.Platform.getPlatformByName(platform_name)\n",
    "simulation = simtk.openmm.app.Simulation(top,s, integrator, platform)\n",
    "simulation.context.setPositions(coord)\n",
    "energy_unit=simtk.openmm.unit.kilojoule_per_mole\n",
    "state = simulation.context.getState(getEnergy=True)\n",
    "energy = state.getPotentialEnergy().value_in_unit(energy_unit)\n",
    "print(energy)"
   ]
  },
  {
   "cell_type": "code",
   "execution_count": 15,
   "metadata": {},
   "outputs": [
    {
     "name": "stdout",
     "output_type": "stream",
     "text": [
      "TotalEnergy -899.147583 kJ/mol\n",
      "Bond 327.558105 kJ/mol\n",
      "Angle 973.859009 kJ/mol\n",
      "Stacking 203.565979 kJ/mol\n",
      "Dihedral -385.277161 kJ/mol\n",
      "BasePair -284.232208 kJ/mol\n",
      "CrossStacking -47.586143 kJ/mol\n",
      "Exclusion 23.991552 kJ/mol\n",
      "Electrostatics 23.268274 kJ/mol\n",
      "ExclusionProteinDNA 296.033508 kJ/mol\n",
      "ElectrostaticsProteinDNA -10.459805 kJ/mol\n",
      "Connectivity 1899.296875 kJ/mol\n",
      "Chain 1899.296875 kJ/mol\n",
      "Chi 1899.296875 kJ/mol\n",
      "Excl 1899.296875 kJ/mol\n",
      "rama -1363.522705 kJ/mol\n",
      "rama_pro -1363.522705 kJ/mol\n",
      "contact -1041.547729 kJ/mol\n",
      "frag -1213.29834 kJ/mol\n",
      "beta1 -300.796692 kJ/mol\n",
      "beta2 -300.796692 kJ/mol\n",
      "beta3 -300.796692 kJ/mol\n",
      "pap1 0.0 kJ/mol\n",
      "pap2 0.0 kJ/mol\n"
     ]
    }
   ],
   "source": [
    "#Obtain total energy\n",
    "\n",
    "energy_unit=simtk.openmm.unit.kilojoule_per_mole\n",
    "state = simulation.context.getState(getEnergy=True)\n",
    "energy = state.getPotentialEnergy().value_in_unit(energy_unit)\n",
    "print('TotalEnergy',round(energy,6),energy_unit.get_symbol())\n",
    "\n",
    "#Obtain detailed energy\n",
    "\n",
    "energies = {}\n",
    "for force_name, force in forces.items():\n",
    "    group=force.getForceGroup()\n",
    "    state = simulation.context.getState(getEnergy=True, groups=2**group)\n",
    "    energies[force_name] =state.getPotentialEnergy().value_in_unit(energy_unit)\n",
    "\n",
    "for force_name in forces.keys():\n",
    "    print(force_name, round(energies[force_name],6),energy_unit.get_symbol())"
   ]
  },
  {
   "cell_type": "code",
   "execution_count": 16,
   "metadata": {},
   "outputs": [],
   "source": [
    "#Add simulation reporters\n",
    "dcd_reporter=simtk.openmm.app.DCDReporter(f'output.dcd', 1000)\n",
    "energy_reporter=simtk.openmm.app.StateDataReporter(sys.stdout, 1000, step=True,time=True,\n",
    "                                                   potentialEnergy=True, temperature=True)\n",
    "simulation.reporters.append(dcd_reporter)\n",
    "simulation.reporters.append(energy_reporter)"
   ]
  },
  {
   "cell_type": "code",
   "execution_count": 17,
   "metadata": {},
   "outputs": [
    {
     "name": "stdout",
     "output_type": "stream",
     "text": [
      "#\"Step\",\"Time (ps)\",\"Potential Energy (kJ/mole)\",\"Temperature (K)\"\n",
      "1000,2.0000000000000013,-3530.608154296875,290.88146099862456\n",
      "2000,3.999999999999781,-3319.03369140625,302.9093539922764\n",
      "3000,5.999999999999561,-3443.765625,304.4729979039714\n",
      "4000,7.999999999999341,-3305.24365234375,314.4807096480951\n",
      "5000,10.000000000000009,-3352.027587890625,305.7891241337078\n",
      "6000,12.000000000000677,-3452.0576171875,304.8535024442824\n",
      "7000,14.000000000001345,-3501.574462890625,304.2466357884671\n",
      "8000,16.00000000000201,-3526.40625,309.9843163255696\n",
      "9000,18.000000000000902,-3427.978515625,303.71922273330904\n",
      "10000,19.999999999999794,-3233.651123046875,287.7602081414227\n"
     ]
    }
   ],
   "source": [
    "#Run simulation\n",
    "simulation.minimizeEnergy()\n",
    "simulation.context.setVelocitiesToTemperature(temperature)\n",
    "simulation.step(10000)"
   ]
  },
  {
   "cell_type": "code",
   "execution_count": 18,
   "metadata": {},
   "outputs": [
    {
     "name": "stdout",
     "output_type": "stream",
     "text": [
      "Bond 78.226036 kJ/mol\n",
      "Angle 158.129898 kJ/mol\n",
      "Stacking -425.946625 kJ/mol\n",
      "Dihedral -459.438263 kJ/mol\n",
      "BasePair -250.990784 kJ/mol\n",
      "CrossStacking -52.840195 kJ/mol\n",
      "Exclusion 3.04963 kJ/mol\n",
      "Electrostatics 23.869045 kJ/mol\n",
      "ExclusionProteinDNA -7.741285 kJ/mol\n",
      "ElectrostaticsProteinDNA -7.384644 kJ/mol\n",
      "Connectivity 1660.876465 kJ/mol\n",
      "Chain 1660.876343 kJ/mol\n",
      "Chi 1660.876343 kJ/mol\n",
      "Excl 1660.876465 kJ/mol\n",
      "rama -1479.883545 kJ/mol\n",
      "rama_pro -1479.883545 kJ/mol\n",
      "contact -1388.324951 kJ/mol\n",
      "frag -937.700623 kJ/mol\n",
      "beta1 -147.550629 kJ/mol\n",
      "beta2 -147.550629 kJ/mol\n",
      "beta3 -147.550629 kJ/mol\n",
      "pap1 -0.000152 kJ/mol\n",
      "pap2 -0.000152 kJ/mol\n"
     ]
    }
   ],
   "source": [
    "#Get the detailed energy after the simulation\n",
    "energies = {}\n",
    "for force_name, force in forces.items():\n",
    "    group=force.getForceGroup()\n",
    "    state = simulation.context.getState(getEnergy=True, groups=2**group)\n",
    "    energies[force_name] =state.getPotentialEnergy().value_in_unit(energy_unit)\n",
    "\n",
    "for force_name in forces.keys():\n",
    "    print(force_name, round(energies[force_name],6),energy_unit.get_symbol())"
   ]
  }
 ],
 "metadata": {
  "kernelspec": {
   "display_name": "Python 3",
   "language": "python",
   "name": "python3"
  },
  "language_info": {
   "codemirror_mode": {
    "name": "ipython",
    "version": 3
   },
   "file_extension": ".py",
   "mimetype": "text/x-python",
   "name": "python",
   "nbconvert_exporter": "python",
   "pygments_lexer": "ipython3",
   "version": "3.6.10"
  },
  "toc": {
   "base_numbering": 1,
   "nav_menu": {},
   "number_sections": true,
   "sideBar": true,
   "skip_h1_title": true,
   "title_cell": "Table of Contents",
   "title_sidebar": "Contents",
   "toc_cell": true,
   "toc_position": {},
   "toc_section_display": true,
   "toc_window_display": true
  }
 },
 "nbformat": 4,
 "nbformat_minor": 4
}
